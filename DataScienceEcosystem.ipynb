{
 "cells": [
  {
   "cell_type": "markdown",
   "id": "3521bcc9-acd2-430d-bbe3-b777578e1fc7",
   "metadata": {},
   "source": [
    "# Data Science Tools and Ecocsytem"
   ]
  },
  {
   "cell_type": "markdown",
   "id": "71805530-106d-4f01-9d06-b5dbd4e215e5",
   "metadata": {},
   "source": [
    "## Author\n",
    "\n",
    "David Thompson"
   ]
  },
  {
   "cell_type": "markdown",
   "id": "68a5de92-99fb-432f-b145-93cf9f49cde1",
   "metadata": {},
   "source": [
    "In this notebook, Data Science Tools and Ecosytem are summarized."
   ]
  },
  {
   "cell_type": "markdown",
   "id": "ef9510c9-31d5-47dd-b0d3-577c344ddbf5",
   "metadata": {},
   "source": [
    "**Objectives:**\n",
    "* Demonstrating the use of ordered lists to list popular languages in Data Science\n",
    "* Demonstrating the use of ordered lists to list popular libraries used in Data Science\n",
    "* Demonstrating the use simple arithmetic expressions in python\n"
   ]
  },
  {
   "cell_type": "markdown",
   "id": "e3b743e7-c1e7-4098-9c33-0b6a6daa54f5",
   "metadata": {},
   "source": [
    "Some of the popular languages that Data Scientists use are:\n",
    "\n",
    "1. Python\n",
    "2. R\n",
    "3. Julia\n",
    "4. SQL\n"
   ]
  },
  {
   "cell_type": "markdown",
   "id": "e9469a4b-9de8-4196-99ee-791f6d9e730b",
   "metadata": {},
   "source": [
    "Some of the commonly used libraries used by Data Scientists include:\n",
    "    \n",
    "1. Pandas\n",
    "2. NumPy\n",
    "3. Ggplot2\n",
    "4. PyTorch"
   ]
  },
  {
   "cell_type": "markdown",
   "id": "d273b091-9ca5-47da-9deb-fc8014834b73",
   "metadata": {},
   "source": [
    "Data Science Tools|\n",
    "-------------------\n",
    "Anaconda\n",
    "Apache Spark\n",
    "Apache Hadoop"
   ]
  },
  {
   "cell_type": "markdown",
   "id": "a76988b9-7ac6-4378-83a5-0fd4adc2c629",
   "metadata": {},
   "source": [
    "### Below are a few examples of evaluating arithmetic expressions in Python"
   ]
  },
  {
   "cell_type": "code",
   "execution_count": 1,
   "id": "91c7d620-3994-4420-b92a-e18a17ca3888",
   "metadata": {
    "tags": []
   },
   "outputs": [
    {
     "data": {
      "text/plain": [
       "17"
      ]
     },
     "execution_count": 1,
     "metadata": {},
     "output_type": "execute_result"
    }
   ],
   "source": [
    "# This is a simple arithmetic expression to multiply then add intergars\n",
    "\n",
    "(3*4)+5"
   ]
  },
  {
   "cell_type": "code",
   "execution_count": 2,
   "id": "3b9e771e-9ae9-456d-8081-894ee29ed0b2",
   "metadata": {
    "tags": []
   },
   "outputs": [
    {
     "data": {
      "text/plain": [
       "3.3333333333333335"
      ]
     },
     "execution_count": 2,
     "metadata": {},
     "output_type": "execute_result"
    }
   ],
   "source": [
    "# This will convert 200 minutes to hours by dividing by 60.\n",
    "\n",
    "200/60"
   ]
  },
  {
   "cell_type": "code",
   "execution_count": null,
   "id": "c9a6b884-913b-4974-b506-430480e77677",
   "metadata": {},
   "outputs": [],
   "source": []
  }
 ],
 "metadata": {
  "kernelspec": {
   "display_name": "Python 3 (ipykernel)",
   "language": "python",
   "name": "python3"
  },
  "language_info": {
   "codemirror_mode": {
    "name": "ipython",
    "version": 3
   },
   "file_extension": ".py",
   "mimetype": "text/x-python",
   "name": "python",
   "nbconvert_exporter": "python",
   "pygments_lexer": "ipython3",
   "version": "3.11.5"
  }
 },
 "nbformat": 4,
 "nbformat_minor": 5
}
